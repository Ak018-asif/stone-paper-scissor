{
 "cells": [
  {
   "cell_type": "code",
   "execution_count": 16,
   "id": "43819fdf-d3ad-4d92-bd88-18efb0ab245b",
   "metadata": {},
   "outputs": [
    {
     "name": "stdin",
     "output_type": "stream",
     "text": [
      "enter your choice stone or paper or scissor stone\n",
      "enter friends choice stone or paper or scissor scissor\n"
     ]
    },
    {
     "name": "stdout",
     "output_type": "stream",
     "text": [
      "me wins\n"
     ]
    }
   ],
   "source": [
    "def me():\n",
    "    return input(\"enter your choice stone or paper or scissor\")\n",
    "def friend ():\n",
    "    return input(\"enter friends choice stone or paper or scissor\")\n",
    "def winner(user1,user2):\n",
    "    if user1==user2:\n",
    "        return \"draw\"\n",
    "    elif(user1==\"stone\" and user2==\"scissor\") or\\\n",
    "        (user1==\"paper\" and user2==\"stone\") or\\\n",
    "        (user1==\"scissor\" and user2==\"paper\"):\n",
    "        return \"you win\"\n",
    "    else:\n",
    "       return \"friend wins\"\n",
    "user1=me()\n",
    "user2=friend()\n",
    "print(winner(user1,user2))\n",
    "    \n",
    "         \n",
    "    \n",
    "    \n",
    "\n"
   ]
  },
  {
   "cell_type": "code",
   "execution_count": null,
   "id": "1d9e170a-bd28-44b1-8d1e-0d9aad9c2fb1",
   "metadata": {},
   "outputs": [],
   "source": []
  }
 ],
 "metadata": {
  "kernelspec": {
   "display_name": "Python [conda env:base] *",
   "language": "python",
   "name": "conda-base-py"
  },
  "language_info": {
   "codemirror_mode": {
    "name": "ipython",
    "version": 3
   },
   "file_extension": ".py",
   "mimetype": "text/x-python",
   "name": "python",
   "nbconvert_exporter": "python",
   "pygments_lexer": "ipython3",
   "version": "3.12.7"
  }
 },
 "nbformat": 4,
 "nbformat_minor": 5
}
